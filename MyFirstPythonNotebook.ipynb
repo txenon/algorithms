{
 "cells": [
  {
   "cell_type": "code",
   "execution_count": null,
   "metadata": {},
   "outputs": [],
   "source": [
    "print(\"Hello World\")"
   ]
  },
  {
   "cell_type": "code",
   "execution_count": null,
   "metadata": {},
   "outputs": [],
   "source": [
    "x = 3141592653589793238462643383279502884197169399375105820974944592\n",
    "y = 2718281828459045235360287471352662497757247093699959574966967627\n",
    "maxLen = max(len(str(x)), len(str(y)))\n",
    "print(maxLen)"
   ]
  },
  {
   "cell_type": "code",
   "execution_count": null,
   "metadata": {},
   "outputs": [],
   "source": [
    "def kara(x,y):\n",
    "    maxLen = max(len(str(x)), len(str(y)))\n",
    "    if maxLen == 1:\n",
    "        return x * y\n",
    "    else:\n",
    "        nextLen = maxLen // 2\n",
    "        a = x // (10**nextLen)\n",
    "        b = x % (10**nextLen)\n",
    "        c = y // (10**nextLen)\n",
    "        d = y % (10**nextLen)\n",
    "        ac = kara(a,c)\n",
    "        bd = kara(b,d)\n",
    "        cross = kara(a+b,c+d)\n",
    "        return (10**(2*nextLen)) * ac + (10**nextLen) * (cross - ac - bd) + bd"
   ]
  },
  {
   "cell_type": "code",
   "execution_count": null,
   "metadata": {},
   "outputs": [],
   "source": [
    "print(kara(x,y))"
   ]
  },
  {
   "cell_type": "code",
   "execution_count": null,
   "metadata": {},
   "outputs": [],
   "source": [
    "path = \"IntegerArray.txt\"\n",
    "with open(path) as f:\n",
    "    lines = [int(x) for x in f.read().splitlines()]"
   ]
  },
  {
   "cell_type": "code",
   "execution_count": null,
   "metadata": {},
   "outputs": [],
   "source": [
    "print(len(lines))"
   ]
  },
  {
   "cell_type": "code",
   "execution_count": null,
   "metadata": {},
   "outputs": [],
   "source": [
    "def countflip(lines):\n",
    "    cnt = 0\n",
    "    if len(lines) == 1:\n",
    "        return lines, cnt\n",
    "    else:\n",
    "        nextLen = len(lines) // 2\n",
    "        a, cnta = countflip(lines[:nextLen])\n",
    "        lena = len(a)\n",
    "        b, cntb = countflip(lines[nextLen:])\n",
    "        lenb = len(b)\n",
    "        cnt = cnta + cntb\n",
    "        c = []\n",
    "        i = 0\n",
    "        j = 0\n",
    "        while True:\n",
    "            if a[i]<b[j]:\n",
    "                c.append(a[i])\n",
    "                i += 1\n",
    "                if i == lena:\n",
    "                    c.extend(b[j:])\n",
    "                    break\n",
    "            else:\n",
    "                c.append(b[j])\n",
    "                j += 1\n",
    "                cnt += lena - i\n",
    "                if j == lenb:\n",
    "                    c.extend(a[i:])\n",
    "                    break\n",
    "        return c, cnt"
   ]
  },
  {
   "cell_type": "code",
   "execution_count": null,
   "metadata": {},
   "outputs": [],
   "source": [
    "countflip(lines)"
   ]
  },
  {
   "cell_type": "code",
   "execution_count": null,
   "metadata": {},
   "outputs": [],
   "source": [
    "countflip([1,2,5,3,4])"
   ]
  },
  {
   "cell_type": "code",
   "execution_count": null,
   "metadata": {},
   "outputs": [],
   "source": [
    "path = \"QuickSort.txt\"\n",
    "with open(path) as f:\n",
    "    a = [int(x) for x in f.read().splitlines()]"
   ]
  },
  {
   "cell_type": "code",
   "execution_count": null,
   "metadata": {},
   "outputs": [],
   "source": [
    "def quicksort1(a, stp, edp):\n",
    "    length = edp - stp\n",
    "    if length <= 1:\n",
    "        return 0\n",
    "    pivot = a[stp]\n",
    "    i = 1 + stp\n",
    "    for j in range(1 + stp, edp):\n",
    "        if pivot > a[j]:\n",
    "            a[i], a[j] = a[j], a[i]\n",
    "            i += 1\n",
    "    a[stp], a[i-1] = a[i-1], a[stp]\n",
    "    cnt = length - 1\n",
    "    cnt += quicksort1(a, stp, i-1)\n",
    "    cnt += quicksort1(a, i, edp)\n",
    "    return cnt"
   ]
  },
  {
   "cell_type": "code",
   "execution_count": null,
   "metadata": {},
   "outputs": [],
   "source": [
    "def quicksort2(a, stp, edp):\n",
    "    length = edp - stp\n",
    "    if length <= 1:\n",
    "        return 0\n",
    "    a[stp], a[edp-1] = a[edp-1], a[stp]\n",
    "    pivot = a[stp]\n",
    "    i = 1 + stp\n",
    "    for j in range(1 + stp, edp):\n",
    "        if pivot > a[j]:\n",
    "            a[i], a[j] = a[j], a[i]\n",
    "            i += 1\n",
    "    a[stp], a[i-1] = a[i-1], a[stp]\n",
    "    cnt = length - 1\n",
    "    cnt += quicksort2(a, stp, i-1)\n",
    "    cnt += quicksort2(a, i, edp)\n",
    "    return cnt"
   ]
  },
  {
   "cell_type": "code",
   "execution_count": null,
   "metadata": {},
   "outputs": [],
   "source": [
    "def quicksort3(a, stp, edp):\n",
    "    length = edp - stp\n",
    "    if length <= 1:\n",
    "        return 0\n",
    "    middle = int((stp + edp)/2 - 0.5)\n",
    "    temp = [stp, middle, edp-1]\n",
    "    for k in range(2):\n",
    "        if a[temp[0]] > a[temp[1]]:\n",
    "            temp[1], temp[0] = temp[0], temp[1]\n",
    "        if a[temp[1]] > a[temp[2]]:\n",
    "            temp[2], temp[1] = temp[1], temp[2]\n",
    "    median = temp[1]\n",
    "    a[stp], a[median] = a[median], a[stp]\n",
    "    pivot = a[stp]\n",
    "    i = 1 + stp\n",
    "    for j in range(1 + stp, edp):\n",
    "        if pivot > a[j]:\n",
    "            a[i], a[j] = a[j], a[i]\n",
    "            i += 1\n",
    "    a[stp], a[i-1] = a[i-1], a[stp]\n",
    "    cnt = length - 1\n",
    "    cnt += quicksort3(a, stp, i-1)\n",
    "    cnt += quicksort3(a, i, edp)\n",
    "    return cnt"
   ]
  },
  {
   "cell_type": "code",
   "execution_count": null,
   "metadata": {},
   "outputs": [],
   "source": [
    "quicksort3(a, 0, len(a))"
   ]
  },
  {
   "cell_type": "code",
   "execution_count": null,
   "metadata": {},
   "outputs": [],
   "source": [
    "path = \"kargerMinCut.txt\"\n",
    "with open(path) as f:\n",
    "    array = [[int(x) for x in line.split()[1:]] for line in f]"
   ]
  },
  {
   "cell_type": "code",
   "execution_count": null,
   "metadata": {},
   "outputs": [],
   "source": [
    "import random\n",
    "def randomCut(array):\n",
    "    numNodes = len(array)\n",
    "    remainNodes = list(range(1, numNodes+1))\n",
    "    while numNodes > 2:\n",
    "        node1 = random.choice(remainNodes)\n",
    "        #print(len(array[node1 - 1]))\n",
    "        node2 = array[node1 - 1][random.randrange(len(array[node1 - 1]))]\n",
    "        temp = []\n",
    "        for x in array[node1 - 1]:\n",
    "            if x != node2:\n",
    "                temp.append(x)\n",
    "        for x in array[node2 - 1]:\n",
    "            if x != node1:\n",
    "                temp.append(x)\n",
    "                array[x-1] = [(node1 if y == node2 else y) for y in array[x-1]]\n",
    "        array[node1 - 1] = temp\n",
    "        array[node2 - 1] = []\n",
    "        #print(node2)\n",
    "        remainNodes.remove(node2)\n",
    "        numNodes -= 1\n",
    "    for x in array:\n",
    "        if len(x) > 0:\n",
    "            return len(x)"
   ]
  },
  {
   "cell_type": "code",
   "execution_count": null,
   "metadata": {},
   "outputs": [],
   "source": [
    "import math, copy\n",
    "numNodes = len(array)\n",
    "n = int(numNodes ** 2 * math.log(numNodes))\n",
    "print(n)\n",
    "b = 100\n",
    "for i in range(n):\n",
    "    a = copy.deepcopy(array)\n",
    "    print(b)\n",
    "    c = randomCut(a)\n",
    "    if c < b:\n",
    "        b = c"
   ]
  },
  {
   "cell_type": "code",
   "execution_count": 29,
   "metadata": {},
   "outputs": [],
   "source": [
    "path = \"a.txt\"\n",
    "with open(path) as f:\n",
    "    data = [[int(x) for x in line.split()] for line in f if line!=\"\\n\"]"
   ]
  },
  {
   "cell_type": "code",
   "execution_count": 30,
   "metadata": {},
   "outputs": [],
   "source": [
    "numNodes = 8\n",
    "a = [[] for _ in range(numNodes)]\n",
    "b = [[] for _ in range(numNodes)]\n",
    "visited = [False] * numNodes"
   ]
  },
  {
   "cell_type": "code",
   "execution_count": 31,
   "metadata": {},
   "outputs": [],
   "source": [
    "for x in data:\n",
    "    a[x[0]-1].append(x[1])\n",
    "for x in data:\n",
    "    b[x[1]-1].append(x[0])"
   ]
  },
  {
   "cell_type": "code",
   "execution_count": 32,
   "metadata": {},
   "outputs": [],
   "source": [
    "def dfsloop(g, route=list(range(1, numNodes+1))):\n",
    "    def dfs(g, n):\n",
    "        nonlocal cnt, sccNum\n",
    "        visited[n-1] = True\n",
    "        for x in g[n-1]:\n",
    "            if visited[x-1] == False:\n",
    "                dfs(g, x)\n",
    "        route[cnt] = n\n",
    "        cnt += 1\n",
    "        sccNum += 1\n",
    "        return\n",
    "    \n",
    "    sccs = []\n",
    "    cnt = 0\n",
    "    temproute = reversed(route[:])\n",
    "    visited = [False] * numNodes\n",
    "    for i in temproute:\n",
    "        if visited[i - 1] == False:\n",
    "            sccNum = 0\n",
    "            dfs(g, i)\n",
    "            sccs.append(sccNum)\n",
    "    return route, sccs"
   ]
  },
  {
   "cell_type": "code",
   "execution_count": 33,
   "metadata": {},
   "outputs": [],
   "source": [
    "route, _ = dfsloop(b)\n",
    "_, sccs = dfsloop(a, route)"
   ]
  },
  {
   "cell_type": "code",
   "execution_count": 34,
   "metadata": {},
   "outputs": [
    {
     "name": "stdout",
     "output_type": "stream",
     "text": [
      "[3, 3, 2]\n"
     ]
    }
   ],
   "source": [
    "print(list(reversed(sorted(sccs))))"
   ]
  },
  {
   "cell_type": "code",
   "execution_count": 40,
   "metadata": {},
   "outputs": [],
   "source": [
    "path = \"dijkstraData.txt\"\n",
    "with open(path) as f:\n",
    "    data = [[[int(i) for i in vl.split(\",\")] for vl in line.split()[1:]] for line in f]"
   ]
  },
  {
   "cell_type": "code",
   "execution_count": 41,
   "metadata": {},
   "outputs": [
    {
     "name": "stdout",
     "output_type": "stream",
     "text": [
      "[[80, 982], [163, 8164], [170, 2620], [145, 648], [200, 8021], [173, 2069], [92, 647], [26, 4122], [140, 546], [11, 1913], [160, 6461], [27, 7905], [40, 9047], [150, 2183], [61, 9146], [159, 7420], [198, 1724], [114, 508], [104, 6647], [30, 4612], [99, 2367], [138, 7896], [169, 8700], [49, 2437], [125, 2909], [117, 2597], [55, 6399]]\n",
      "200\n"
     ]
    }
   ],
   "source": [
    "print(data[0])\n",
    "print(len(data))"
   ]
  },
  {
   "cell_type": "code",
   "execution_count": 10,
   "metadata": {},
   "outputs": [
    {
     "name": "stdout",
     "output_type": "stream",
     "text": [
      "[100, 2, 3, 4, 5]\n",
      "[1, 2, 3, 4, 5]\n",
      "[1, 2, 3, 4, 5]\n",
      "[100, 2, 3, 4, 5]\n"
     ]
    }
   ],
   "source": [
    "a = [1,2,3,4,5]\n",
    "b = a.copy()\n",
    "c = a[:]\n",
    "d = a\n",
    "a[0] = 100\n",
    "print(a)\n",
    "print(b)\n",
    "print(c)\n",
    "print(d)"
   ]
  },
  {
   "cell_type": "code",
   "execution_count": 42,
   "metadata": {},
   "outputs": [],
   "source": [
    "from operator import itemgetter\n",
    "def dijkstra(G, s):\n",
    "    numNodes = len(G)\n",
    "    D = [None for _ in range(numNodes)]\n",
    "    D[s-1] = 0\n",
    "    X = {s}\n",
    "    while len(X) < numNodes:\n",
    "        temp = []\n",
    "        for v in X:\n",
    "            for vl in G[v-1]:\n",
    "                if vl[0] not in X:\n",
    "                    temp.append([D[v-1] + vl[1], vl[0]])\n",
    "        temp.sort(key=itemgetter(0))\n",
    "        vstar = temp[0][1]\n",
    "        X.add(vstar)\n",
    "        D[vstar-1] = temp[0][0]\n",
    "    return D"
   ]
  },
  {
   "cell_type": "code",
   "execution_count": 43,
   "metadata": {},
   "outputs": [],
   "source": [
    "D = dijkstra(data, 1)"
   ]
  },
  {
   "cell_type": "code",
   "execution_count": 44,
   "metadata": {},
   "outputs": [
    {
     "name": "stdout",
     "output_type": "stream",
     "text": [
      "[2599, 2610, 2947, 2052, 2367, 2399, 2029, 2442, 2505, 3068]\n"
     ]
    }
   ],
   "source": [
    "a = [7,37,59,82,99,115,133,165,188,197]\n",
    "ans = []\n",
    "for i in a:\n",
    "    ans.append(D[i-1])\n",
    "print(ans)"
   ]
  },
  {
   "cell_type": "code",
   "execution_count": 45,
   "metadata": {},
   "outputs": [
    {
     "name": "stdout",
     "output_type": "stream",
     "text": [
      "[0, 2971, 2644, 3056, 2525, 2818, 2599, 1875, 745, 3205, 1551, 2906, 2394, 1803, 2942, 1837, 3111, 2284, 1044, 2351, 3630, 4028, 2650, 3653, 2249, 2150, 1222, 2090, 3540, 2303, 3455, 3004, 2551, 2656, 998, 2236, 2610, 3548, 1851, 4091, 2732, 2040, 3312, 2142, 3438, 2937, 2979, 2757, 2437, 3152, 2503, 2817, 2420, 3369, 2862, 2609, 2857, 3668, 2947, 2592, 1676, 2573, 2498, 2047, 826, 3393, 2535, 4636, 3650, 743, 1265, 1539, 3007, 4286, 2720, 3220, 2298, 2795, 2806, 982, 2976, 2052, 3997, 2656, 1193, 2461, 1608, 3046, 3261, 2018, 2786, 647, 3542, 3415, 2186, 2398, 4248, 3515, 2367, 2970, 3536, 2478, 1826, 2551, 3368, 2303, 2540, 1169, 3140, 2317, 2535, 1759, 1899, 508, 2399, 3513, 2597, 2176, 1090, 2328, 2818, 1306, 2805, 2057, 2618, 1694, 3285, 1203, 676, 1820, 1445, 2468, 2029, 1257, 1533, 2417, 3599, 2494, 4101, 546, 1889, 2616, 2141, 2359, 648, 2682, 3464, 2873, 3109, 2183, 4159, 1832, 2080, 1831, 2001, 3013, 2143, 1376, 1627, 2403, 4772, 2556, 2124, 1693, 2442, 3814, 2630, 2038, 2776, 1365, 3929, 1990, 2069, 3558, 1432, 2279, 3829, 2435, 3691, 3027, 2345, 3807, 2145, 2703, 2884, 3806, 1151, 2505, 2340, 2596, 4123, 1737, 3136, 1073, 1707, 2417, 3068, 1724, 815, 2060]\n"
     ]
    }
   ],
   "source": [
    "print(D)"
   ]
  },
  {
   "cell_type": "code",
   "execution_count": 37,
   "metadata": {},
   "outputs": [
    {
     "name": "stdout",
     "output_type": "stream",
     "text": [
      "[0, 1]\n"
     ]
    }
   ],
   "source": [
    "D = [0, 0]\n",
    "D[-1] = 1\n",
    "print(D)"
   ]
  },
  {
   "cell_type": "code",
   "execution_count": 18,
   "metadata": {},
   "outputs": [],
   "source": [
    "path = \"Median.txt\"\n",
    "with open(path) as f:\n",
    "    data = [int(line.replace(\"\\n\", \"\")) for line in f]"
   ]
  },
  {
   "cell_type": "code",
   "execution_count": 19,
   "metadata": {},
   "outputs": [],
   "source": [
    "import math\n",
    "def insert(h, x):\n",
    "    h.append(x)\n",
    "    if len(h) == 1:\n",
    "        return\n",
    "    l = len(h)\n",
    "    i = math.floor(l/2)\n",
    "    while h[i-1] > h[l-1]:\n",
    "        h[i-1], h[l-1] = h[l-1], h[i-1]\n",
    "        l = i\n",
    "        i = math.floor(l/2)\n",
    "        if i==0:\n",
    "            break\n",
    "    return"
   ]
  },
  {
   "cell_type": "code",
   "execution_count": 20,
   "metadata": {},
   "outputs": [],
   "source": [
    "def extmin(h):\n",
    "    if len(h) == 1:\n",
    "        return h.pop()\n",
    "    min = h[0]\n",
    "    h[0] = h.pop()\n",
    "    l = len(h)\n",
    "    i = 1\n",
    "    if l >= 2*i+1:\n",
    "        j = 2*i if h[2*i-1] < h[2*i] else 2*i+1\n",
    "    elif l == 2*i:\n",
    "        j = 2*i\n",
    "    else:\n",
    "        return min\n",
    "    while h[i-1] > h[j-1]:\n",
    "        h[i-1], h[j-1] = h[j-1], h[i-1]\n",
    "        i = j\n",
    "        if l >= 2*i+1:\n",
    "            j = 2*i if h[2*i-1] < h[2*i] else 2*i+1\n",
    "        elif l == 2*i:\n",
    "            j = 2*i\n",
    "        else:\n",
    "            return min\n",
    "    return min"
   ]
  },
  {
   "cell_type": "code",
   "execution_count": 27,
   "metadata": {},
   "outputs": [],
   "source": [
    "if data[0] < data[1]:\n",
    "    heap1 = [-data[0]]\n",
    "    heap2 = [data[1]]\n",
    "    m = [data[0], data[0]]\n",
    "else:\n",
    "    heap1 = [-data[1]]\n",
    "    heap2 = [data[0]]\n",
    "    m = [data[0], data[1]]\n",
    "\n",
    "balance = 0"
   ]
  },
  {
   "cell_type": "code",
   "execution_count": 28,
   "metadata": {},
   "outputs": [],
   "source": [
    "for i in range(2,len(data)):\n",
    "    if data[i] < heap2[0]:\n",
    "        insert(heap1, -data[i])\n",
    "        balance += 1\n",
    "    else:\n",
    "        insert(heap2, data[i])\n",
    "        balance -= 1\n",
    "    if balance < -1:\n",
    "        temp = extmin(heap2)\n",
    "        insert(heap1, -temp)\n",
    "        balance += 2\n",
    "    if balance > 1:\n",
    "        temp = - extmin(heap1)\n",
    "        insert(heap2, temp)\n",
    "        balance -= 2\n",
    "    if balance == -1:\n",
    "        m.append(heap2[0])\n",
    "    else:\n",
    "        m.append(-heap1[0])"
   ]
  },
  {
   "cell_type": "code",
   "execution_count": 29,
   "metadata": {},
   "outputs": [
    {
     "name": "stdout",
     "output_type": "stream",
     "text": [
      "[6331, 2793, 1640, 9290, 225, 625, 6195, 2303, 5685, 1354]\n",
      "[6331, 2793, 2793, 2793, 2793, 1640, 2793, 2303, 2793, 2303]\n"
     ]
    }
   ],
   "source": [
    "print(data[:10])\n",
    "print(m[:10])"
   ]
  },
  {
   "cell_type": "code",
   "execution_count": 31,
   "metadata": {},
   "outputs": [
    {
     "name": "stdout",
     "output_type": "stream",
     "text": [
      "46831213\n"
     ]
    }
   ],
   "source": [
    "print(sum(m))"
   ]
  },
  {
   "cell_type": "code",
   "execution_count": 93,
   "metadata": {},
   "outputs": [],
   "source": [
    "path = \"algo1-programming_prob-2sum.txt\"\n",
    "with open(path) as f:\n",
    "    htables = {int(line.replace(\"/n\",\"\")) for line in f}"
   ]
  },
  {
   "cell_type": "code",
   "execution_count": 100,
   "metadata": {},
   "outputs": [],
   "source": [
    "data = list(htables)\n",
    "data.sort()"
   ]
  },
  {
   "cell_type": "code",
   "execution_count": 101,
   "metadata": {},
   "outputs": [],
   "source": [
    "minVal = -10000\n",
    "maxVal = 10000"
   ]
  },
  {
   "cell_type": "code",
   "execution_count": 102,
   "metadata": {},
   "outputs": [],
   "source": [
    "numset = set()\n",
    "i = len(data)-1\n",
    "j = len(data)-1\n",
    "for x in data:\n",
    "    while data[i] >= -x+minVal:\n",
    "        i -= 1\n",
    "        if i <= -1:\n",
    "            i = -1\n",
    "            break\n",
    "    while data[j] > -x+maxVal:\n",
    "        j -= 1\n",
    "        if j <= -1:\n",
    "            j = -1\n",
    "            break\n",
    "    for y in data[i+1:j+1]:\n",
    "        numset.add(x+y)"
   ]
  },
  {
   "cell_type": "code",
   "execution_count": 103,
   "metadata": {},
   "outputs": [
    {
     "name": "stdout",
     "output_type": "stream",
     "text": [
      "427\n"
     ]
    }
   ],
   "source": [
    "print(len(numset))"
   ]
  },
  {
   "cell_type": "code",
   "execution_count": 104,
   "metadata": {},
   "outputs": [],
   "source": [
    "a = sorted(list(numset))"
   ]
  },
  {
   "cell_type": "code",
   "execution_count": 105,
   "metadata": {},
   "outputs": [
    {
     "name": "stdout",
     "output_type": "stream",
     "text": [
      "[9685, 9777, 9778, 9871, 9872, 9964, 9965]\n"
     ]
    }
   ],
   "source": [
    "print(a[420:427])"
   ]
  },
  {
   "cell_type": "code",
   "execution_count": null,
   "metadata": {},
   "outputs": [],
   "source": []
  }
 ],
 "metadata": {
  "kernelspec": {
   "display_name": "Python 3",
   "language": "python",
   "name": "python3"
  },
  "language_info": {
   "codemirror_mode": {
    "name": "ipython",
    "version": 3
   },
   "file_extension": ".py",
   "mimetype": "text/x-python",
   "name": "python",
   "nbconvert_exporter": "python",
   "pygments_lexer": "ipython3",
   "version": "3.7.3"
  }
 },
 "nbformat": 4,
 "nbformat_minor": 2
}
