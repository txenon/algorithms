{
 "cells": [
  {
   "cell_type": "code",
   "execution_count": null,
   "metadata": {},
   "outputs": [],
   "source": [
    "path=\"jobs.txt\"\n",
    "with open(path) as f:\n",
    "    numJobs = int(f.readline())\n",
    "    data = [[int(x) for x in line.split()] for line in f]"
   ]
  },
  {
   "cell_type": "code",
   "execution_count": null,
   "metadata": {},
   "outputs": [],
   "source": [
    "print(numJobs)\n",
    "print(data[:10])"
   ]
  },
  {
   "cell_type": "code",
   "execution_count": null,
   "metadata": {},
   "outputs": [],
   "source": [
    "for p in data:\n",
    "    p.append(p[0] - p[1])\n",
    "    # p.append(p[0]/p[1])"
   ]
  },
  {
   "cell_type": "code",
   "execution_count": null,
   "metadata": {},
   "outputs": [],
   "source": [
    "from operator import itemgetter\n",
    "sdata = sorted(data, key=itemgetter(2,0), reverse=True)"
   ]
  },
  {
   "cell_type": "code",
   "execution_count": null,
   "metadata": {},
   "outputs": [],
   "source": [
    "sum = 0\n",
    "compTime = 0\n",
    "for t in sdata:\n",
    "    compTime += t[1]\n",
    "    sum += t[0] * compTime"
   ]
  },
  {
   "cell_type": "code",
   "execution_count": null,
   "metadata": {},
   "outputs": [],
   "source": [
    "print(sum)"
   ]
  },
  {
   "cell_type": "code",
   "execution_count": null,
   "metadata": {},
   "outputs": [],
   "source": [
    "path = \"edges.txt\"\n",
    "with open(path) as f:\n",
    "    numNodes, numEdges = [int(x) for x in f.readline().split()]\n",
    "    data = [[int(x) for x in line.split()] for line in f]"
   ]
  },
  {
   "cell_type": "code",
   "execution_count": null,
   "metadata": {},
   "outputs": [],
   "source": [
    "print(data[:10])"
   ]
  },
  {
   "cell_type": "code",
   "execution_count": null,
   "metadata": {},
   "outputs": [],
   "source": [
    "S = {1}\n",
    "R = set(range(2,501))\n",
    "sum = 0\n",
    "while(len(R) > 0):\n",
    "    b = []\n",
    "    for a in data:\n",
    "        if (a[0] in S and a[1] in R) or (a[0] in R and a[1] in S):\n",
    "            b.append(a)\n",
    "    b.sort(key = itemgetter(2))\n",
    "    S.add(b[0][0])\n",
    "    S.add(b[0][1])\n",
    "    R.discard(b[0][0])\n",
    "    R.discard(b[0][1])\n",
    "    sum += b[0][2]"
   ]
  },
  {
   "cell_type": "code",
   "execution_count": null,
   "metadata": {},
   "outputs": [],
   "source": [
    "print(sum)"
   ]
  },
  {
   "cell_type": "code",
   "execution_count": null,
   "metadata": {},
   "outputs": [],
   "source": [
    "path = \"clustering1.txt\"\n",
    "with open(path) as f:\n",
    "    n = int(f.readline())\n",
    "    data = [[int(x) for x in line.split()] for line in f]"
   ]
  },
  {
   "cell_type": "code",
   "execution_count": null,
   "metadata": {},
   "outputs": [],
   "source": [
    "import networkx as nx\n",
    "uf = nx.utils.UnionFind(list(range(1,n+1)))"
   ]
  },
  {
   "cell_type": "code",
   "execution_count": null,
   "metadata": {},
   "outputs": [],
   "source": [
    "from operator import itemgetter\n",
    "sdata = sorted(data, key=itemgetter(2))"
   ]
  },
  {
   "cell_type": "code",
   "execution_count": null,
   "metadata": {},
   "outputs": [],
   "source": [
    "numClusters = n\n",
    "for e in sdata:\n",
    "    if uf[e[0]] != uf[e[1]]:\n",
    "        uf.union(e[0],e[1])\n",
    "        numClusters -= 1\n",
    "        if numClusters == 3:\n",
    "            print(e[2])"
   ]
  },
  {
   "cell_type": "code",
   "execution_count": null,
   "metadata": {},
   "outputs": [],
   "source": [
    "path = \"clustering_big.txt\"\n",
    "with open(path) as f:\n",
    "    n, numBits = [int(x) for x in f.readline().split()]\n",
    "    data = [int(line.replace(\" \",\"\").replace(\"\\n\",\"\"), 2) for line in f]"
   ]
  },
  {
   "cell_type": "code",
   "execution_count": null,
   "metadata": {},
   "outputs": [],
   "source": [
    "mydict = {}\n",
    "for i,x in enumerate(data):\n",
    "    if x not in mydict:\n",
    "        mydict[x] = [i]\n",
    "    else:\n",
    "        mydict[x].append(i)"
   ]
  },
  {
   "cell_type": "code",
   "execution_count": null,
   "metadata": {},
   "outputs": [],
   "source": [
    "import networkx as nx\n",
    "uf = nx.utils.UnionFind(list(range(n)))"
   ]
  },
  {
   "cell_type": "code",
   "execution_count": null,
   "metadata": {},
   "outputs": [],
   "source": [
    "flip1 = [set() for _ in range(n)]\n",
    "flip20 = [set() for _ in range(n)]\n",
    "for i,x in enumerate(data):\n",
    "    flip1[i] = {x ^ (1 << k) for k in range(numBits)}\n",
    "    for y in flip1[i]:\n",
    "        flip20[i] = flip20[i] | {y ^ (1 << k) for k in range(numBits)}\n",
    "\n",
    "#flip1 = [[] for _ in range(n)]\n",
    "#flip20 = [[] for _ in range(n)]\n",
    "#for i,x in enumerate(data):\n",
    "#    flip1[i] = [x ^ (1 << k) for k in range(numBits)]\n",
    "#    for y in flip1[i]:\n",
    "#        flip20[i].extend([y ^ (1 << k) for k in range(numBits)])"
   ]
  },
  {
   "cell_type": "code",
   "execution_count": null,
   "metadata": {},
   "outputs": [],
   "source": [
    "for x in mydict.keys():\n",
    "    if len(mydict[x]) >= 2:\n",
    "        for j in range(len(mydict[x])):\n",
    "            if j != 0:\n",
    "                uf.union(mydict[x][j-1], mydict[x][j])\n",
    "for i,s in enumerate(flip1):\n",
    "    for x in list(s):\n",
    "        if x in mydict:\n",
    "            uf.union(i, mydict[x][0])\n",
    "for i,s in enumerate(flip20):\n",
    "    for x in list(s):\n",
    "        if x in mydict:\n",
    "            uf.union(i, mydict[x][0])"
   ]
  },
  {
   "cell_type": "code",
   "execution_count": null,
   "metadata": {},
   "outputs": [],
   "source": [
    "cnt = set()\n",
    "for i in range(n):\n",
    "    cnt.add(uf[i])\n",
    "print(len(cnt))"
   ]
  },
  {
   "cell_type": "code",
   "execution_count": null,
   "metadata": {},
   "outputs": [],
   "source": [
    "path = \"huffman.txt\"\n",
    "with open(path) as f:\n",
    "    n = int(f.readline())\n",
    "    i = 1\n",
    "    W = []\n",
    "    for line in f:\n",
    "        W.append([int(line), [i]])\n",
    "        i += 1"
   ]
  },
  {
   "cell_type": "code",
   "execution_count": null,
   "metadata": {},
   "outputs": [],
   "source": [
    "import heapq\n",
    "heapq.heapify(W)"
   ]
  },
  {
   "cell_type": "code",
   "execution_count": null,
   "metadata": {},
   "outputs": [],
   "source": [
    "cnt = [0]*n\n",
    "while len(W) > 1:\n",
    "    s1 = heapq.heappop(W)\n",
    "    s2 = heapq.heappop(W)\n",
    "    s3 = [s1[0]+s2[0], s1[1]+s2[1]]\n",
    "    heapq.heappush(W, s3)\n",
    "    for x in s3[1]:\n",
    "        cnt[x-1] += 1"
   ]
  },
  {
   "cell_type": "code",
   "execution_count": null,
   "metadata": {},
   "outputs": [],
   "source": [
    "f = lambda i:cnt[i]\n",
    "print(cnt[max(range(len(cnt)), key = f)])\n",
    "print(cnt[min(range(len(cnt)), key = f)])"
   ]
  },
  {
   "cell_type": "code",
   "execution_count": null,
   "metadata": {},
   "outputs": [],
   "source": [
    "path = \"mwis.txt\"\n",
    "with open(path) as f:\n",
    "    n = int(f.readline())\n",
    "    W = [int(line) for line in f]"
   ]
  },
  {
   "cell_type": "code",
   "execution_count": null,
   "metadata": {},
   "outputs": [],
   "source": [
    "A = [None]*n\n",
    "A[0] = W[0]\n",
    "A[1] = max(W[0], W[1])\n",
    "for i in range(2,n):\n",
    "    A[i] = max(A[i-1], A[i-2]+W[i])"
   ]
  },
  {
   "cell_type": "code",
   "execution_count": null,
   "metadata": {},
   "outputs": [],
   "source": [
    "S = set()\n",
    "i = n-1\n",
    "while i >= 0:\n",
    "    ap2 = A[i-2] if i >= 2 else 0\n",
    "    ap1 = A[i-1] if i >= 1 else 0 \n",
    "    if ap2 + W[i] >= ap1:\n",
    "        S.add(i)\n",
    "        i -= 2\n",
    "    else:\n",
    "        S.add(i-1)\n",
    "        i -= 3"
   ]
  },
  {
   "cell_type": "code",
   "execution_count": null,
   "metadata": {},
   "outputs": [],
   "source": [
    "idx = [0,1,2,3,16,116,516,996]\n",
    "for i in idx:\n",
    "    print(i in S)"
   ]
  },
  {
   "cell_type": "code",
   "execution_count": null,
   "metadata": {},
   "outputs": [],
   "source": [
    "print(max(A))"
   ]
  },
  {
   "cell_type": "code",
   "execution_count": null,
   "metadata": {},
   "outputs": [],
   "source": [
    "path = \"knapsack1.txt\"\n",
    "with open(path) as f:\n",
    "    s, n = [int(x) for x in f.readline().split()]\n",
    "    data = [[int(x) for x in line.split()] for line in f]"
   ]
  },
  {
   "cell_type": "code",
   "execution_count": null,
   "metadata": {},
   "outputs": [],
   "source": [
    "A = [[None for j in range(s+1)] for i in range(n+1)]"
   ]
  },
  {
   "cell_type": "code",
   "execution_count": null,
   "metadata": {},
   "outputs": [],
   "source": [
    "for j in range(s+1):\n",
    "    A[0][j] = 0"
   ]
  },
  {
   "cell_type": "code",
   "execution_count": null,
   "metadata": {},
   "outputs": [],
   "source": [
    "for i in range(1,n+1):\n",
    "    for j in range(s+1):\n",
    "        A[i][j] = max(A[i-1][j], A[i-1][j-data[i-1][1]] + data[i-1][0]) if j >= data[i-1][1] else A[i-1][j]"
   ]
  },
  {
   "cell_type": "code",
   "execution_count": null,
   "metadata": {},
   "outputs": [],
   "source": [
    "print(A[n][s])"
   ]
  },
  {
   "cell_type": "code",
   "execution_count": null,
   "metadata": {},
   "outputs": [],
   "source": [
    "path = \"knapsack_big.txt\"\n",
    "with open(path) as f:\n",
    "    s, n = [int(x) for x in f.readline().split()]\n",
    "    data = [[int(x) for x in line.split()] for line in f]"
   ]
  },
  {
   "cell_type": "code",
   "execution_count": null,
   "metadata": {},
   "outputs": [],
   "source": [
    "A = [[None for j in range(s+1)] for i in range(2)]"
   ]
  },
  {
   "cell_type": "code",
   "execution_count": null,
   "metadata": {},
   "outputs": [],
   "source": [
    "for j in range(s+1):\n",
    "    A[0][j] = 0"
   ]
  },
  {
   "cell_type": "code",
   "execution_count": null,
   "metadata": {},
   "outputs": [],
   "source": [
    "for i in range(1,n+1):\n",
    "    print(i)\n",
    "    for j in range(s+1):\n",
    "        A[i%2][j] = max(A[(i-1)%2][j], A[(i-1)%2][j-data[i-1][1]] + data[i-1][0]) if j >= data[i-1][1] else A[(i-1)%2][j]"
   ]
  },
  {
   "cell_type": "code",
   "execution_count": null,
   "metadata": {},
   "outputs": [],
   "source": [
    "NUMLIST_FILENAME = \"knapsack_big.txt\" # optimal value: 4243395\n",
    "\n",
    "inFile = open(NUMLIST_FILENAME, 'r')\n",
    "\n",
    "knapsack_size = 0\n",
    "number_of_items = False\n",
    "items = []\n",
    "A = { 0:{} } \n",
    "\n",
    "for f in inFile:\n",
    "    if(number_of_items == False):\n",
    "        knapsack_size, number_of_items = map(int, f.split())\n",
    "    else:\n",
    "        value, weight = map(int, f.split())\n",
    "        items.append([value, weight])\n",
    "\n",
    "# initializing \n",
    "for x in range(0, knapsack_size + 1):\n",
    "    A[0][x] = 0\n",
    "\n",
    "for i in range(1, number_of_items + 1):\n",
    "    # limiting dictionary size\n",
    "    if i > 1:\n",
    "        del A[i-2]\n",
    "    if i not in A:\n",
    "        A[i] = {}\n",
    "    for x in range(0, knapsack_size + 1):\n",
    "        option_a = A[i-1][x]\n",
    "        value = items[i-1][0]\n",
    "        weight = items[i-1][1]\n",
    "        if x - weight >= 0 and x - weight <= knapsack_size:\n",
    "            option_b = A[i-1][x-weight] + value\n",
    "        else:\n",
    "            option_b = 0\n",
    "        if option_a >= option_b:\n",
    "            A[i][x] = option_a\n",
    "        else:\n",
    "            A[i][x] = option_b\n",
    "\n",
    "# optimal value\n",
    "print(A[number_of_items][knapsack_size])"
   ]
  },
  {
   "cell_type": "code",
   "execution_count": null,
   "metadata": {},
   "outputs": [],
   "source": [
    "# not checked if this works.just for reference\n",
    "def BellmanFord(G, n, s):\n",
    "    inf = 10**8\n",
    "    A = [[None] * (n+1) for _ in range(n+1)]\n",
    "    for j in range(1,n+1):      \n",
    "        A[0][j] = inf\n",
    "    A[0][s] = 0\n",
    "    for i in range(1,n+1):\n",
    "        temp = [inf] * (n+1)\n",
    "        for e in G:\n",
    "            temp[e[1]] = min(temp[e[1]], A[i-1][e[0]] + e[2])\n",
    "        for j in range(1,n+1):\n",
    "            A[i][j] = min(A[i-1][j], temp[j])\n",
    "    if A[n] == A[n-1]:\n",
    "        print(\"Done\")\n",
    "        return A[n][1:]\n",
    "    else:\n",
    "        print(\"There is a negative cycle.\")\n",
    "        return A"
   ]
  },
  {
   "cell_type": "code",
   "execution_count": null,
   "metadata": {},
   "outputs": [],
   "source": [
    "path = \"g3.txt\"\n",
    "with open(path) as f:\n",
    "    n, m = [int(x) for x in f.readline().split()]\n",
    "    G = [[int(x) for x in line.split()] for line in f]"
   ]
  },
  {
   "cell_type": "code",
   "execution_count": null,
   "metadata": {},
   "outputs": [],
   "source": [
    "import numpy as np\n",
    "def FloydWarshall(G, n):\n",
    "    inf = 10**8\n",
    "    #A = [[[inf]*2 for _ in range(n)] for _ in range(n)]\n",
    "    A = np.ones((n,n,2), dtype=np.int32) * inf\n",
    "    for i in range(n):\n",
    "        A[i,i,0] = 0\n",
    "    for e in G:\n",
    "        A[e[0]-1,e[1]-1,0] = e[2]\n",
    "    for k in range(1,n+1):\n",
    "        print(k)\n",
    "        for i in range(n):\n",
    "            for j in range(n):\n",
    "                A[i,j,k%2] = min(A[i,j,(k-1)%2], A[i,k-1,(k-1)%2] + A[k-1,j,(k-1)%2])\n",
    "    B = A[:,:,n%2]\n",
    "    for i in range(n):\n",
    "        if B[i,i] != 0:\n",
    "            print(B[i,i])\n",
    "            print(\"negative cycle\")\n",
    "            return B\n",
    "    print(\"Done\")\n",
    "    return B"
   ]
  },
  {
   "cell_type": "code",
   "execution_count": null,
   "metadata": {},
   "outputs": [],
   "source": [
    "Res1 = FloydWarshall(G, n)"
   ]
  },
  {
   "cell_type": "code",
   "execution_count": null,
   "metadata": {},
   "outputs": [],
   "source": [
    "print(np.min(Res1))"
   ]
  },
  {
   "cell_type": "code",
   "execution_count": null,
   "metadata": {},
   "outputs": [],
   "source": [
    "path = \"tsp.txt\"\n",
    "with open(path) as f:\n",
    "    n = int(f.readline())\n",
    "    data = [[float(x) for x in line.split()] for line in f]"
   ]
  },
  {
   "cell_type": "code",
   "execution_count": null,
   "metadata": {},
   "outputs": [],
   "source": [
    "D = [[None] * n for _ in range(n)]"
   ]
  },
  {
   "cell_type": "code",
   "execution_count": null,
   "metadata": {},
   "outputs": [],
   "source": [
    "import math\n",
    "for i in range(n):\n",
    "    for j in range(n):\n",
    "        D[i][j] = math.sqrt((data[i][0] - data[j][0]) ** 2 + (data[i][1] - data[j][1]) ** 2)"
   ]
  },
  {
   "cell_type": "code",
   "execution_count": null,
   "metadata": {},
   "outputs": [],
   "source": [
    "def calcId(*args):\n",
    "    x = 0\n",
    "    for i in args:\n",
    "        x += 2 ** i\n",
    "    return x"
   ]
  },
  {
   "cell_type": "code",
   "execution_count": null,
   "metadata": {},
   "outputs": [],
   "source": [
    "inf = 10 ** 8\n",
    "A = [[inf] * n for _ in range(2 ** n)]"
   ]
  },
  {
   "cell_type": "code",
   "execution_count": null,
   "metadata": {},
   "outputs": [],
   "source": [
    "for i in range(2 ** n):\n",
    "    A[i][0] = inf\n",
    "A[calcId(0)][0] = 0"
   ]
  },
  {
   "cell_type": "code",
   "execution_count": null,
   "metadata": {},
   "outputs": [],
   "source": [
    "import itertools\n",
    "for i in range(1,n):\n",
    "    Ss = [list(_) for _ in list(itertools.combinations(list(range(1,n)), i))]\n",
    "    for S in Ss:\n",
    "        for v in S:\n",
    "            if len(S) == 1:\n",
    "                A[calcId(*S, 0)][v] = min(A[calcId(*S, 0)][v], A[calcId(*S, 0) - 2**v][0] + D[0][v])\n",
    "            else:\n",
    "                for w in S:\n",
    "                    if w != v:\n",
    "                        A[calcId(*S, 0)][v] = min(A[calcId(*S, 0)][v], A[calcId(*S, 0) - 2**v][w] + D[w][v])"
   ]
  },
  {
   "cell_type": "code",
   "execution_count": null,
   "metadata": {},
   "outputs": [],
   "source": [
    "ans = inf\n",
    "for v in range(1,n):\n",
    "    ans = min(ans, A[calcId(*list(range(n)))][v] + D[v][0])\n",
    "print(ans)"
   ]
  },
  {
   "cell_type": "code",
   "execution_count": 1,
   "metadata": {},
   "outputs": [],
   "source": [
    "path = \"nn.txt\"\n",
    "with open(path) as f:\n",
    "    n = int(f.readline())\n",
    "    data = [[float(c) for c in line.split()[1:]] for line in f]"
   ]
  },
  {
   "cell_type": "code",
   "execution_count": 2,
   "metadata": {},
   "outputs": [],
   "source": [
    "import math\n",
    "def tspheu(i, S):\n",
    "    inf = 10**16\n",
    "    d2 = inf\n",
    "    k = None\n",
    "    for j in S:\n",
    "        if d2 < (data[i][0] - data[j][0]) ** 2 and i < j: # Since City coordinates in nn.txt is sorted by x.\n",
    "            break\n",
    "        dist2 = (data[i][0] - data[j][0]) ** 2 + (data[i][1] - data[j][1]) ** 2\n",
    "        if d2 > dist2:\n",
    "            d2 = dist2\n",
    "            k = j\n",
    "    dist = math.sqrt(d2)\n",
    "    return k, dist"
   ]
  },
  {
   "cell_type": "code",
   "execution_count": 3,
   "metadata": {},
   "outputs": [
    {
     "name": "stdout",
     "output_type": "stream",
     "text": [
      "33700\n",
      "33600\n",
      "33500\n",
      "33400\n",
      "33300\n",
      "33200\n",
      "33100\n",
      "33000\n",
      "32900\n",
      "32800\n",
      "32700\n",
      "32600\n",
      "32500\n",
      "32400\n",
      "32300\n",
      "32200\n",
      "32100\n",
      "32000\n",
      "31900\n",
      "31800\n",
      "31700\n",
      "31600\n",
      "31500\n",
      "31400\n",
      "31300\n",
      "31200\n",
      "31100\n",
      "31000\n",
      "30900\n",
      "30800\n",
      "30700\n",
      "30600\n",
      "30500\n",
      "30400\n",
      "30300\n",
      "30200\n",
      "30100\n",
      "30000\n",
      "29900\n",
      "29800\n",
      "29700\n",
      "29600\n",
      "29500\n",
      "29400\n",
      "29300\n",
      "29200\n",
      "29100\n",
      "29000\n",
      "28900\n",
      "28800\n",
      "28700\n",
      "28600\n",
      "28500\n",
      "28400\n",
      "28300\n",
      "28200\n",
      "28100\n",
      "28000\n",
      "27900\n",
      "27800\n",
      "27700\n",
      "27600\n",
      "27500\n",
      "27400\n",
      "27300\n",
      "27200\n",
      "27100\n",
      "27000\n",
      "26900\n",
      "26800\n",
      "26700\n",
      "26600\n",
      "26500\n",
      "26400\n",
      "26300\n",
      "26200\n",
      "26100\n",
      "26000\n",
      "25900\n",
      "25800\n",
      "25700\n",
      "25600\n",
      "25500\n",
      "25400\n",
      "25300\n",
      "25200\n",
      "25100\n",
      "25000\n",
      "24900\n",
      "24800\n",
      "24700\n",
      "24600\n",
      "24500\n",
      "24400\n",
      "24300\n",
      "24200\n",
      "24100\n",
      "24000\n",
      "23900\n",
      "23800\n",
      "23700\n",
      "23600\n",
      "23500\n",
      "23400\n",
      "23300\n",
      "23200\n",
      "23100\n",
      "23000\n",
      "22900\n",
      "22800\n",
      "22700\n",
      "22600\n",
      "22500\n",
      "22400\n",
      "22300\n",
      "22200\n",
      "22100\n",
      "22000\n",
      "21900\n",
      "21800\n",
      "21700\n",
      "21600\n",
      "21500\n",
      "21400\n",
      "21300\n",
      "21200\n",
      "21100\n",
      "21000\n",
      "20900\n",
      "20800\n",
      "20700\n",
      "20600\n",
      "20500\n",
      "20400\n",
      "20300\n",
      "20200\n",
      "20100\n",
      "20000\n",
      "19900\n",
      "19800\n",
      "19700\n",
      "19600\n",
      "19500\n",
      "19400\n",
      "19300\n",
      "19200\n",
      "19100\n",
      "19000\n",
      "18900\n",
      "18800\n",
      "18700\n",
      "18600\n",
      "18500\n",
      "18400\n",
      "18300\n",
      "18200\n",
      "18100\n",
      "18000\n",
      "17900\n",
      "17800\n",
      "17700\n",
      "17600\n",
      "17500\n",
      "17400\n",
      "17300\n",
      "17200\n",
      "17100\n",
      "17000\n",
      "16900\n",
      "16800\n",
      "16700\n",
      "16600\n",
      "16500\n",
      "16400\n",
      "16300\n",
      "16200\n",
      "16100\n",
      "16000\n",
      "15900\n",
      "15800\n",
      "15700\n",
      "15600\n",
      "15500\n",
      "15400\n",
      "15300\n",
      "15200\n",
      "15100\n",
      "15000\n",
      "14900\n",
      "14800\n",
      "14700\n",
      "14600\n",
      "14500\n",
      "14400\n",
      "14300\n",
      "14200\n",
      "14100\n",
      "14000\n",
      "13900\n",
      "13800\n",
      "13700\n",
      "13600\n",
      "13500\n",
      "13400\n",
      "13300\n",
      "13200\n",
      "13100\n",
      "13000\n",
      "12900\n",
      "12800\n",
      "12700\n",
      "12600\n",
      "12500\n",
      "12400\n",
      "12300\n",
      "12200\n",
      "12100\n",
      "12000\n",
      "11900\n",
      "11800\n",
      "11700\n",
      "11600\n",
      "11500\n",
      "11400\n",
      "11300\n",
      "11200\n",
      "11100\n",
      "11000\n",
      "10900\n",
      "10800\n",
      "10700\n",
      "10600\n",
      "10500\n",
      "10400\n",
      "10300\n",
      "10200\n",
      "10100\n",
      "10000\n",
      "9900\n",
      "9800\n",
      "9700\n",
      "9600\n",
      "9500\n",
      "9400\n",
      "9300\n",
      "9200\n",
      "9100\n",
      "9000\n",
      "8900\n",
      "8800\n",
      "8700\n",
      "8600\n",
      "8500\n",
      "8400\n",
      "8300\n",
      "8200\n",
      "8100\n",
      "8000\n",
      "7900\n",
      "7800\n",
      "7700\n",
      "7600\n",
      "7500\n",
      "7400\n",
      "7300\n",
      "7200\n",
      "7100\n",
      "7000\n",
      "6900\n",
      "6800\n",
      "6700\n",
      "6600\n",
      "6500\n",
      "6400\n",
      "6300\n",
      "6200\n",
      "6100\n",
      "6000\n",
      "5900\n",
      "5800\n",
      "5700\n",
      "5600\n",
      "5500\n",
      "5400\n",
      "5300\n",
      "5200\n",
      "5100\n",
      "5000\n",
      "4900\n",
      "4800\n",
      "4700\n",
      "4600\n",
      "4500\n",
      "4400\n",
      "4300\n",
      "4200\n",
      "4100\n",
      "4000\n",
      "3900\n",
      "3800\n",
      "3700\n",
      "3600\n",
      "3500\n",
      "3400\n",
      "3300\n",
      "3200\n",
      "3100\n",
      "3000\n",
      "2900\n",
      "2800\n",
      "2700\n",
      "2600\n",
      "2500\n",
      "2400\n",
      "2300\n",
      "2200\n",
      "2100\n",
      "2000\n",
      "1900\n",
      "1800\n",
      "1700\n",
      "1600\n",
      "1500\n",
      "1400\n",
      "1300\n",
      "1200\n",
      "1100\n",
      "1000\n",
      "900\n",
      "800\n",
      "700\n",
      "600\n",
      "500\n",
      "400\n",
      "300\n",
      "200\n",
      "100\n",
      "Done\n",
      "1203406.5012708856\n"
     ]
    }
   ],
   "source": [
    "S = list(range(n))\n",
    "cost = 0\n",
    "i = 0\n",
    "while len(S) > 1:\n",
    "    if len(S) % 100 == 0:\n",
    "        print(len(S)) #debug\n",
    "    S.remove(i)\n",
    "    k, dist= tspheu(i, S)\n",
    "    cost += dist\n",
    "    i = k\n",
    "cost += math.sqrt((data[i][0] - data[0][0]) ** 2 + (data[i][1] - data[0][1]) ** 2)\n",
    "print(\"Done\")\n",
    "print(cost)"
   ]
  },
  {
   "cell_type": "code",
   "execution_count": 145,
   "metadata": {},
   "outputs": [],
   "source": [
    "path = \"2sat6.txt\"\n",
    "with open(path) as f:\n",
    "    n = int(f.readline())\n",
    "    data = [[int(x) for x in line.split()] for line in f]"
   ]
  },
  {
   "cell_type": "code",
   "execution_count": 146,
   "metadata": {},
   "outputs": [
    {
     "name": "stdout",
     "output_type": "stream",
     "text": [
      "26\n"
     ]
    }
   ],
   "source": [
    "# preprocessing\n",
    "import copy\n",
    "while True:\n",
    "    cnt = {}\n",
    "    for i in range(-n, n+1):\n",
    "        cnt[i] = 0\n",
    "    for x in data:\n",
    "        cnt[x[0]] += 1\n",
    "        cnt[x[1]] += 1\n",
    "    data2 = []\n",
    "    for i in range(len(data)):\n",
    "        if cnt[data[i][0]] >= 1 and cnt[-data[i][0]] >= 1 and cnt[data[i][1]] >= 1 and cnt[-data[i][1]] >= 1:\n",
    "            data2.append(data[i])\n",
    "    if len(data) == len(data2):\n",
    "        break\n",
    "    data = copy.deepcopy(data2)\n",
    "print(len(data))"
   ]
  },
  {
   "cell_type": "code",
   "execution_count": 147,
   "metadata": {},
   "outputs": [
    {
     "name": "stdout",
     "output_type": "stream",
     "text": [
      "0\n",
      "100000\n",
      "200000\n",
      "300000\n",
      "400000\n",
      "500000\n",
      "600000\n",
      "700000\n",
      "800000\n",
      "900000\n",
      "1000000\n",
      "1100000\n",
      "1200000\n",
      "1300000\n",
      "1400000\n",
      "1500000\n",
      "1600000\n",
      "1700000\n",
      "1800000\n",
      "1900000\n"
     ]
    },
    {
     "ename": "KeyboardInterrupt",
     "evalue": "",
     "output_type": "error",
     "traceback": [
      "\u001b[1;31m---------------------------------------------------------------------------\u001b[0m",
      "\u001b[1;31mKeyboardInterrupt\u001b[0m                         Traceback (most recent call last)",
      "\u001b[1;32m<ipython-input-147-f8c07588de87>\u001b[0m in \u001b[0;36m<module>\u001b[1;34m\u001b[0m\n\u001b[0;32m     27\u001b[0m                 \u001b[0ma\u001b[0m\u001b[1;33m[\u001b[0m\u001b[0mii\u001b[0m\u001b[1;33m]\u001b[0m \u001b[1;33m=\u001b[0m \u001b[1;33m(\u001b[0m\u001b[0ma\u001b[0m\u001b[1;33m[\u001b[0m\u001b[0mii\u001b[0m\u001b[1;33m]\u001b[0m \u001b[1;33m+\u001b[0m \u001b[1;36m1\u001b[0m\u001b[1;33m)\u001b[0m \u001b[1;33m%\u001b[0m \u001b[1;36m2\u001b[0m\u001b[1;33m\u001b[0m\u001b[1;33m\u001b[0m\u001b[0m\n\u001b[0;32m     28\u001b[0m                 \u001b[1;32mbreak\u001b[0m\u001b[1;33m\u001b[0m\u001b[1;33m\u001b[0m\u001b[0m\n\u001b[1;32m---> 29\u001b[1;33m             \u001b[1;32mif\u001b[0m \u001b[0mf\u001b[0m \u001b[1;33m==\u001b[0m \u001b[1;32mTrue\u001b[0m \u001b[1;32mand\u001b[0m \u001b[0mi\u001b[0m \u001b[1;33m==\u001b[0m \u001b[0mlen\u001b[0m\u001b[1;33m(\u001b[0m\u001b[0mdata\u001b[0m\u001b[1;33m)\u001b[0m\u001b[1;33m-\u001b[0m\u001b[1;36m1\u001b[0m\u001b[1;33m:\u001b[0m\u001b[1;33m\u001b[0m\u001b[1;33m\u001b[0m\u001b[0m\n\u001b[0m\u001b[0;32m     30\u001b[0m                 \u001b[0mbf\u001b[0m \u001b[1;33m=\u001b[0m \u001b[1;32mTrue\u001b[0m\u001b[1;33m\u001b[0m\u001b[1;33m\u001b[0m\u001b[0m\n\u001b[0;32m     31\u001b[0m                 \u001b[0mprint\u001b[0m\u001b[1;33m(\u001b[0m\u001b[1;34m\"Success!\"\u001b[0m\u001b[1;33m)\u001b[0m\u001b[1;33m\u001b[0m\u001b[1;33m\u001b[0m\u001b[0m\n",
      "\u001b[1;31mKeyboardInterrupt\u001b[0m: "
     ]
    }
   ],
   "source": [
    "import random\n",
    "import math\n",
    "for h in range(int(math.log2(n))):\n",
    "    a = [random.randint(0,1) for _ in range(n)]\n",
    "    bf = False\n",
    "    for i in range(2 * n**2):\n",
    "        if i % 100000 == 0:\n",
    "            print(i)\n",
    "        if bf == True:\n",
    "            break\n",
    "        for i in range(len(data)):\n",
    "            if data[i][0] < 0:\n",
    "                n0 = 1\n",
    "                i0 = -data[i][0] - 1\n",
    "            else:\n",
    "                n0 = 0\n",
    "                i0 = data[i][0] - 1\n",
    "            if data[i][1] < 0:\n",
    "                n1 = 1\n",
    "                i1 = -data[i][1] - 1\n",
    "            else:\n",
    "                n1 = 0\n",
    "                i1 = data[i][1] - 1\n",
    "            f = ((a[i0] + n0) % 2) or ((a[i1] + n1) % 2)\n",
    "            if f == False:\n",
    "                ii = i0 if random.randint(0,1) == 0 else i1\n",
    "                a[ii] = (a[ii] + 1) % 2\n",
    "                break\n",
    "            if f == True and i == len(data)-1:\n",
    "                bf = True\n",
    "                print(\"Success!\")"
   ]
  },
  {
   "cell_type": "code",
   "execution_count": null,
   "metadata": {},
   "outputs": [],
   "source": []
  }
 ],
 "metadata": {
  "kernelspec": {
   "display_name": "Python 3",
   "language": "python",
   "name": "python3"
  },
  "language_info": {
   "codemirror_mode": {
    "name": "ipython",
    "version": 3
   },
   "file_extension": ".py",
   "mimetype": "text/x-python",
   "name": "python",
   "nbconvert_exporter": "python",
   "pygments_lexer": "ipython3",
   "version": "3.7.3"
  }
 },
 "nbformat": 4,
 "nbformat_minor": 2
}
